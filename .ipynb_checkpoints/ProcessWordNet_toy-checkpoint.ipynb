{
 "cells": [
  {
   "cell_type": "code",
   "execution_count": 1,
   "metadata": {},
   "outputs": [],
   "source": [
    "import nltk\n",
    "from nltk.corpus import wordnet as wn"
   ]
  },
  {
   "cell_type": "code",
   "execution_count": 8,
   "metadata": {},
   "outputs": [
    {
     "name": "stdout",
     "output_type": "stream",
     "text": [
      "=== felicitous \n",
      "[Synset('felicitous.a.01'), Synset('felicitous.s.02')]\n",
      "=== good \n",
      "[Synset('good.n.01'), Synset('good.n.02'), Synset('good.n.03'), Synset('commodity.n.01'), Synset('good.a.01'), Synset('full.s.06'), Synset('good.a.03'), Synset('estimable.s.02'), Synset('beneficial.s.01'), Synset('good.s.06'), Synset('good.s.07'), Synset('adept.s.01'), Synset('good.s.09'), Synset('dear.s.02'), Synset('dependable.s.04'), Synset('good.s.12'), Synset('good.s.13'), Synset('effective.s.04'), Synset('good.s.15'), Synset('good.s.16'), Synset('good.s.17'), Synset('good.s.18'), Synset('good.s.19'), Synset('good.s.20'), Synset('good.s.21'), Synset('well.r.01'), Synset('thoroughly.r.02')]\n",
      "=== dog \n",
      "[Synset('dog.n.01'), Synset('frump.n.01'), Synset('dog.n.03'), Synset('cad.n.01'), Synset('frank.n.02'), Synset('pawl.n.01'), Synset('andiron.n.01'), Synset('chase.v.01')]\n",
      "=== wolf \n",
      "[Synset('wolf.n.01'), Synset('wolf.n.02'), Synset('wolf.n.03'), Synset('wolf.n.04'), Synset('beast.n.02'), Synset('wolf.v.01')]\n",
      "=== wet \n",
      "[Synset('moisture.n.01'), Synset('wet.v.01'), Synset('wet.v.02'), Synset('wet.a.01'), Synset('wet.a.02'), Synset('wet.a.03'), Synset('wet.a.04'), Synset('wet.s.05'), Synset('besotted.s.01')]\n",
      "=== dry \n",
      "[Synset('dry.n.01'), Synset('dry.v.01'), Synset('dry.v.02'), Synset('dry.a.01'), Synset('dry.s.02'), Synset('dry.a.03'), Synset('dry.a.04'), Synset('dry.a.05'), Synset('dry.a.06'), Synset('dry.a.07'), Synset('dry.s.08'), Synset('dry.s.09'), Synset('dry.s.10'), Synset('dry.s.11'), Synset('dry.s.12'), Synset('dry.s.13'), Synset('dry.s.14'), Synset('dry.s.15'), Synset('dry.s.16')]\n",
      "=== canid \n",
      "[Synset('canine.n.02')]\n",
      "=== carnivore \n",
      "[Synset('carnivore.n.01'), Synset('carnivore.n.02')]\n"
     ]
    }
   ],
   "source": [
    "test_type = ['a','a','n','n','n','a','a','n','n']\n",
    "test_words = ['felicitous','good','dog','wolf','wet','dry','canid','carnivore']\n",
    "for i, word in enumeratetest_words:\n",
    "    print('=== {} '.format(word))\n",
    "    print(wn.synsets(word,test_type[i]))\n",
    "    # wn.synsets(word,'a')"
   ]
  },
  {
   "cell_type": "code",
   "execution_count": 97,
   "metadata": {},
   "outputs": [
    {
     "name": "stdout",
     "output_type": "stream",
     "text": [
      "[Synset('dog.n.01'), Synset('frump.n.01'), Synset('dog.n.03'), Synset('cad.n.01'), Synset('frank.n.02'), Synset('pawl.n.01'), Synset('andiron.n.01'), Synset('chase.v.01')]\n",
      "===============\n",
      "[Synset('cad.n.01'), Synset('computer-aided_design.n.01')]\n",
      "===============\n",
      "True\n"
     ]
    }
   ],
   "source": [
    "print(wn.synsets('dog'))\n",
    "print('===============')\n",
    "print(wn.synsets('cad'))\n",
    "print('===============')\n",
    "print(wn.synsets('cad')[0]==wn.synsets('dog')[3])"
   ]
  },
  {
   "cell_type": "code",
   "execution_count": 44,
   "metadata": {},
   "outputs": [
    {
     "name": "stdout",
     "output_type": "stream",
     "text": [
      "Synset('wet.a.01')\n"
     ]
    }
   ],
   "source": [
    "# print(wn.synset('wet.a.01').lemmas()[0].antonyms())\n",
    "felicitous = wn.synset('felicitous.a.01')\n",
    "good = wn.synset('good.a.01')\n",
    "wolf = wn.synset('wolf.n.01')\n",
    "dog = wn.synset('dog.n.01')\n",
    "wet = wn.synset('wet.a.01')\n",
    "dry = wn.synset('dry.a.01')\n",
    "canid = wn.synset('canine.n.02')\n",
    "carnivore = wn.synset('carnivore.n.01')\n",
    "print(wet)"
   ]
  },
  {
   "cell_type": "markdown",
   "metadata": {},
   "source": [
    "## Aynonymy\n",
    "felicitous v.s. good"
   ]
  },
  {
   "cell_type": "code",
   "execution_count": 27,
   "metadata": {},
   "outputs": [
    {
     "name": "stdout",
     "output_type": "stream",
     "text": [
      "Not Synonym\n"
     ]
    }
   ],
   "source": [
    "WORD1 = 'dog'\n",
    "WORD2 = 'cad'\n",
    "same = False\n",
    "for synset in wn.synsets('felicitous'):\n",
    "    for lemma in synset.lemma_names():\n",
    "#         print(lemma)\n",
    "        if lemma == 'good':\n",
    "            same = True\n",
    "if not same:\n",
    "    print('Not Synonym')\n",
    "else:\n",
    "    print('Synonym')"
   ]
  },
  {
   "cell_type": "markdown",
   "metadata": {},
   "source": [
    "## Antonymy"
   ]
  },
  {
   "cell_type": "code",
   "execution_count": 43,
   "metadata": {},
   "outputs": [
    {
     "name": "stdout",
     "output_type": "stream",
     "text": [
      "Antonymy\n"
     ]
    }
   ],
   "source": [
    "# wet.lemmas()[0].antonyms()[0] == dry.lemmas()[0]\n",
    "same = True\n",
    "for synset in wn.synsets('wet'):\n",
    "    if synset.lemmas()[0].antonyms():\n",
    "        if synset.lemmas()[0].antonyms()[0] == dry.lemmas()[0]:\n",
    "            same = False\n",
    "            \n",
    "if not same:\n",
    "    print('Antonymy')\n",
    "else:\n",
    "    print('Synonym')\n",
    "#     print (synset.lemmas()[0].antonyms())\n",
    "#     for ant in synset.lemmas()[0].antonyms()[0]:\n",
    "#         print(ant)\n",
    "\n",
    "# for synset in wn.synsets('dry'):\n",
    "#     print(synset.lemmas())\n",
    "# #     print (synset.lemmas()[0].antonyms())\n",
    "# #     for ant in synset.lemmas()[0].antonyms()[0]:\n",
    "# #         print(ant)"
   ]
  },
  {
   "cell_type": "markdown",
   "metadata": {},
   "source": [
    "## Hypernymy"
   ]
  },
  {
   "cell_type": "code",
   "execution_count": 75,
   "metadata": {},
   "outputs": [
    {
     "name": "stdout",
     "output_type": "stream",
     "text": [
      "path choice of dog 2\n",
      "path choice of wolf 1\n",
      "path choice of ca 1\n",
      "path choice of car 1\n",
      "dog - canid\n",
      "# of edges =  1\n",
      "value =  0.875\n",
      "=========================\n",
      "wolf - canid\n",
      "# of edges =  1\n",
      "value =  0.875\n",
      "=========================\n",
      "dog - carnivore\n",
      "# of edges =  2\n",
      "value =  0.75\n",
      "=========================\n",
      "canid - dog\n",
      "value = 0\n",
      "=========================\n"
     ]
    }
   ],
   "source": [
    "paths_w = wolf.hypernym_paths()\n",
    "paths_d = dog.hypernym_paths()\n",
    "paths_ca = canid.hypernym_paths()\n",
    "paths_car = carnivore.hypernym_paths()\n",
    "print('path choice of dog',len(paths_d))\n",
    "print('path choice of wolf',len(paths_w))\n",
    "print('path choice of ca',len(paths_ca))\n",
    "print('path choice of car',len(paths_car))\n",
    "\n",
    "## tmp-print\n",
    "# print([synset.name() for synset in paths_w[0]])\n",
    "# print([synset.name() for synset in paths_d[0]])\n",
    "# print([synset.name() for synset in paths_ca[0]])\n",
    "# print([synset.name() for synset in paths_car[0]])\n",
    "\n",
    "# hierachy\n",
    "# word1 = 'dog'\n",
    "# word2 = 'canid'\n",
    "# print(canid.lemmas()[0])\n",
    "print('dog - canid')\n",
    "for idx, ele in enumerate([synset.name() for synset in paths_d[0]]):\n",
    "#     print(ele)\n",
    "    if ele == 'canine.n.02':\n",
    "        edgN = len([synset.name() for synset in paths_d[0]])-idx-1\n",
    "        print('# of edges = ',edgN)\n",
    "        print('value = ',1-edgN/8)\n",
    "print('=========================')\n",
    "print('wolf - canid')\n",
    "for idx, ele in enumerate([synset.name() for synset in paths_w[0]]):\n",
    "#     print(ele)\n",
    "    if ele == 'canine.n.02':\n",
    "        edgN = len([synset.name() for synset in paths_w[0]])-idx-1\n",
    "        print('# of edges = ',edgN)\n",
    "        print('value = ',1-edgN/8)\n",
    "print('=========================')\n",
    "print('dog - carnivore')\n",
    "for idx, ele in enumerate([synset.name() for synset in paths_d[0]]):\n",
    "#     print(ele)\n",
    "    if ele == 'carnivore.n.01':\n",
    "        edgN = len([synset.name() for synset in paths_d[0]])-idx-1\n",
    "        print('# of edges = ',edgN)\n",
    "        print('value = ',1-edgN/8)\n",
    "print('=========================')        \n",
    "print('canid - dog')\n",
    "no_hyper = False\n",
    "for idx, ele in enumerate([synset.name() for synset in paths_ca[0]]):\n",
    "#     print(ele)\n",
    "    if ele == 'dog.n.01':\n",
    "        edgN = len([synset.name() for synset in paths_ca[0]])-idx-1\n",
    "        print('# of edges = ',edgN)\n",
    "        print('value = ',1-edgN/8)\n",
    "    else:\n",
    "        no_hyper = True\n",
    "if no_hyper:\n",
    "    print('value = 0')\n",
    "print('=========================')"
   ]
  },
  {
   "cell_type": "code",
   "execution_count": 91,
   "metadata": {},
   "outputs": [
    {
     "name": "stdout",
     "output_type": "stream",
     "text": [
      "2\n",
      "1\n",
      "['entity.n.01', 'physical_entity.n.01', 'object.n.01', 'whole.n.02', 'living_thing.n.01', 'organism.n.01', 'animal.n.01', 'chordate.n.01', 'vertebrate.n.01', 'mammal.n.01', 'placental.n.01', 'carnivore.n.01', 'canine.n.02', 'wolf.n.01']\n",
      "['entity.n.01', 'physical_entity.n.01', 'object.n.01', 'whole.n.02', 'living_thing.n.01', 'organism.n.01', 'animal.n.01', 'chordate.n.01', 'vertebrate.n.01', 'mammal.n.01', 'placental.n.01', 'carnivore.n.01', 'canine.n.02', 'dog.n.01']\n"
     ]
    }
   ],
   "source": [
    "print(wolf.shortest_path_distance(dog))\n",
    "print(canid.shortest_path_distance(wolf))\n",
    "print([synset.name() for synset in paths_w[0]])\n",
    "print([synset.name() for synset in paths_d[0]])"
   ]
  },
  {
   "cell_type": "markdown",
   "metadata": {},
   "source": [
    "## Hyponymy"
   ]
  },
  {
   "cell_type": "code",
   "execution_count": 76,
   "metadata": {},
   "outputs": [
    {
     "ename": "AttributeError",
     "evalue": "'Synset' object has no attribute 'hyponym_paths'",
     "output_type": "error",
     "traceback": [
      "\u001b[0;31m---------------------------------------------------------------------------\u001b[0m",
      "\u001b[0;31mAttributeError\u001b[0m                            Traceback (most recent call last)",
      "\u001b[0;32m<ipython-input-76-32df341f20d4>\u001b[0m in \u001b[0;36m<module>\u001b[0;34m()\u001b[0m\n\u001b[0;32m----> 1\u001b[0;31m \u001b[0mpaths_w\u001b[0m \u001b[0;34m=\u001b[0m \u001b[0mwolf\u001b[0m\u001b[0;34m.\u001b[0m\u001b[0mhyponym_paths\u001b[0m\u001b[0;34m(\u001b[0m\u001b[0;34m)\u001b[0m\u001b[0;34m\u001b[0m\u001b[0m\n\u001b[0m\u001b[1;32m      2\u001b[0m \u001b[0mpaths_d\u001b[0m \u001b[0;34m=\u001b[0m \u001b[0mdog\u001b[0m\u001b[0;34m.\u001b[0m\u001b[0mhyponym_paths\u001b[0m\u001b[0;34m(\u001b[0m\u001b[0;34m)\u001b[0m\u001b[0;34m\u001b[0m\u001b[0m\n\u001b[1;32m      3\u001b[0m \u001b[0mpaths_ca\u001b[0m \u001b[0;34m=\u001b[0m \u001b[0mcanid\u001b[0m\u001b[0;34m.\u001b[0m\u001b[0mhyponym_paths\u001b[0m\u001b[0;34m(\u001b[0m\u001b[0;34m)\u001b[0m\u001b[0;34m\u001b[0m\u001b[0m\n\u001b[1;32m      4\u001b[0m \u001b[0mpaths_car\u001b[0m \u001b[0;34m=\u001b[0m \u001b[0mcarnivore\u001b[0m\u001b[0;34m.\u001b[0m\u001b[0mhyponym_paths\u001b[0m\u001b[0;34m(\u001b[0m\u001b[0;34m)\u001b[0m\u001b[0;34m\u001b[0m\u001b[0m\n\u001b[1;32m      5\u001b[0m \u001b[0mprint\u001b[0m\u001b[0;34m(\u001b[0m\u001b[0;34m'path choice of dog'\u001b[0m\u001b[0;34m,\u001b[0m\u001b[0mlen\u001b[0m\u001b[0;34m(\u001b[0m\u001b[0mpaths_d\u001b[0m\u001b[0;34m)\u001b[0m\u001b[0;34m)\u001b[0m\u001b[0;34m\u001b[0m\u001b[0m\n",
      "\u001b[0;31mAttributeError\u001b[0m: 'Synset' object has no attribute 'hyponym_paths'"
     ]
    }
   ],
   "source": [
    "paths_w = wolf.hyponym_paths()\n",
    "paths_d = dog.hyponym_paths()\n",
    "paths_ca = canid.hyponym_paths()\n",
    "paths_car = carnivore.hyponym_paths()\n",
    "print('path choice of dog',len(paths_d))\n",
    "print('path choice of wolf',len(paths_w))\n",
    "print('path choice of ca',len(paths_ca))\n",
    "print('path choice of car',len(paths_car))\n",
    "\n",
    "## tmp-print\n",
    "# print([synset.name() for synset in paths_w[0]])\n",
    "# print([synset.name() for synset in paths_d[0]])\n",
    "# print([synset.name() for synset in paths_ca[0]])\n",
    "# print([synset.name() for synset in paths_car[0]])\n",
    "\n",
    "# hierachy\n",
    "# word1 = 'dog'\n",
    "# word2 = 'canid'\n",
    "# print(canid.lemmas()[0])\n",
    "print('canid - dog')\n",
    "for idx, ele in enumerate([synset.name() for synset in paths_ca[0]]):\n",
    "#     print(ele)\n",
    "    if ele == 'dog.n.01':\n",
    "        edgN = len([synset.name() for synset in paths_ca[0]])-idx-1\n",
    "        print('# of edges = ',edgN)\n",
    "        print('value = ',1-edgN/8)\n",
    "print('=========================')\n",
    "print('canid - wolf')\n",
    "for idx, ele in enumerate([synset.name() for synset in paths_ca[0]]):\n",
    "#     print(ele)\n",
    "    if ele == 'wolf.n.01':\n",
    "        edgN = len([synset.name() for synset in paths_ca[0]])-idx-1\n",
    "        print('# of edges = ',edgN)\n",
    "        print('value = ',1-edgN/8)\n",
    "print('=========================')\n",
    "print('carnivore - dog')\n",
    "for idx, ele in enumerate([synset.name() for synset in paths_car[0]]):\n",
    "#     print(ele)\n",
    "    if ele == 'dog.n.01':\n",
    "        edgN = len([synset.name() for synset in paths_car[0]])-idx-1\n",
    "        print('# of edges = ',edgN)\n",
    "        print('value = ',1-edgN/8)\n",
    "print('=========================')        \n",
    "print('dog - canid')\n",
    "no_hyper = False\n",
    "for idx, ele in enumerate([synset.name() for synset in paths_d[0]]):\n",
    "#     print(ele)\n",
    "    if ele == 'canine.n.02':\n",
    "        edgN = len([synset.name() for synset in paths_d[0]])-idx-1\n",
    "        print('# of edges = ',edgN)\n",
    "        print('value = ',1-edgN/8)\n",
    "    else:\n",
    "        no_hyper = True\n",
    "if no_hyper:\n",
    "    print('value = 0')\n",
    "print('=========================')"
   ]
  },
  {
   "cell_type": "code",
   "execution_count": null,
   "metadata": {},
   "outputs": [],
   "source": []
  }
 ],
 "metadata": {
  "kernelspec": {
   "display_name": "Python 3",
   "language": "python",
   "name": "python3"
  },
  "language_info": {
   "codemirror_mode": {
    "name": "ipython",
    "version": 3
   },
   "file_extension": ".py",
   "mimetype": "text/x-python",
   "name": "python",
   "nbconvert_exporter": "python",
   "pygments_lexer": "ipython3",
   "version": "3.5.4"
  }
 },
 "nbformat": 4,
 "nbformat_minor": 2
}
