{
 "cells": [
  {
   "cell_type": "code",
   "execution_count": 116,
   "metadata": {},
   "outputs": [],
   "source": [
    "import numpy as np\n",
    "import nltk\n",
    "from nltk.corpus import wordnet as wn\n",
    "relation_feat_lst = []\n",
    "relation_feat_syn = None\n",
    "relation_feat_ant = None\n",
    "relation_feat_hype = None\n",
    "relation_feat_hypo = None\n",
    "relation_feat_same_hype = None\n",
    "def PrintRelationLst():\n",
    "    print('relation-syn:',relation_feat_syn)\n",
    "    print('relation-ant:',relation_feat_ant)\n",
    "    print('relation-hype:',relation_feat_hype)\n",
    "    print('relation-hypo:',relation_feat_hypo)\n",
    "    print('relation-same_hype:',relation_feat_same_hype)"
   ]
  },
  {
   "cell_type": "markdown",
   "metadata": {},
   "source": [
    "## Synonymy & Antonymy"
   ]
  },
  {
   "cell_type": "code",
   "execution_count": 117,
   "metadata": {},
   "outputs": [
    {
     "name": "stdout",
     "output_type": "stream",
     "text": [
      "relation-syn: 0\n",
      "relation-ant: 1\n",
      "relation-hype: None\n",
      "relation-hypo: None\n",
      "relation-same_hype: None\n"
     ]
    }
   ],
   "source": [
    "# WORD1 = 'good'\n",
    "# WORD2 = 'beneficial'\n",
    "# WORD1 = 'wet'\n",
    "# WORD2 = 'dry'\n",
    "WORD1 = 'wet'\n",
    "WORD2 = 'dry'\n",
    "syn_flg = False\n",
    "WORD1_syn_lst = wn.synsets(WORD1)\n",
    "WORD2_syn_lst =wn.synsets(WORD2)\n",
    "# synonymy\n",
    "for word1_i, word1_syn in enumerate(WORD1_syn_lst):\n",
    "    for word2_i, word2_syn in enumerate(WORD2_syn_lst):\n",
    "        if word1_syn == word2_syn:\n",
    "            relation_feat_syn = 1\n",
    "    \n",
    "# antonymy\n",
    "syn_flg = True\n",
    "for word1_i, word1_syn in enumerate(WORD1_syn_lst):\n",
    "    for word2_i, word2_syn in enumerate(WORD2_syn_lst):\n",
    "        if word1_syn.lemmas()[0].antonyms():\n",
    "#             print('word1:',word1_syn.lemmas()[0])\n",
    "#             print('word2:',word2_syn.lemmas()[0])\n",
    "#             print('============================')\n",
    "            if word1_syn.lemmas()[0].antonyms()[0] == word2_syn.lemmas()[0]:\n",
    "                relation_feat_ant = 1\n",
    "if not relation_feat_syn:\n",
    "    relation_feat_syn = 0\n",
    "if not relation_feat_ant:\n",
    "    relation_feat_ant = 0\n",
    "PrintRelationLst()"
   ]
  },
  {
   "cell_type": "markdown",
   "metadata": {},
   "source": [
    "## Hypernymy & Hpyponymy & Same-Hypernym"
   ]
  },
  {
   "cell_type": "code",
   "execution_count": 119,
   "metadata": {},
   "outputs": [
    {
     "name": "stdout",
     "output_type": "stream",
     "text": [
      "word1 =  wet\n",
      "word2 =  dry\n",
      "================\n"
     ]
    }
   ],
   "source": [
    "# here due to its external knowledge definition, we will simple consider Hypernymy and Hyponymy as the same value\n",
    "# =========== def ===========\n",
    "# takes value 1 - n/8 if one word is a (direct or indirect) hypernym of the other wors in WordNet. \n",
    "# Where n is the number of edges between the two words in hierarchies, and 0 otherwise.\n",
    "# Eg. [dog, canid] = 0.875\n",
    "# Eg. [wolf, canid] = 0.875\n",
    "# Eg. [dog, carnivore] = 0.75\n",
    "# Eg. [canid, dog] = 0\n",
    "# ======== End def ==========\n",
    "\n",
    "## first find their most similarity def\n",
    "print('word1 = ',WORD1)\n",
    "print('word2 = ',WORD2)\n",
    "print('================')\n",
    "similarity = -np.float('inf')\n",
    "for word1_i, word1_syn in enumerate(WORD1_syn_lst):\n",
    "    for word2_i, word2_syn in enumerate(WORD2_syn_lst):\n",
    "        sim_val = wn.wup_similarity(word1_syn, word2_syn)\n",
    "        if sim_val: # if they exist similaroty value\n",
    "            if sim_val > similarity:\n",
    "                best_val = sim_val\n",
    "                best_syn1 = word1_syn\n",
    "                best_syn2 = word2_syn\n",
    "                similarity = sim_val\n",
    "# print(best_syn1)\n",
    "# print(best_syn2)\n",
    "        \n",
    "## base on the def, to figure out their hyper-path\n",
    "best_syn1_path = best_syn1.hypernym_paths()\n",
    "for idx, path in enumerate(best_syn1_path):\n",
    "    for i, hyper in enumerate(path):\n",
    "        if hyper == best_syn2:\n",
    "            edgN = len(path)-i-1\n",
    "            relation_feat_hype = 1-edgN/8\n",
    "            break\n",
    "    if relation_feat_hype:\n",
    "        break\n",
    "    \n",
    "best_syn2_path = best_syn2.hypernym_paths()\n",
    "for idx, path in enumerate(best_syn2_path):\n",
    "    for i, hyper in enumerate(path):\n",
    "        if hyper == best_syn1:\n",
    "            edgN = len(path)-i-1\n",
    "            relation_feat_hypo = 1-edgN/8\n",
    "            break\n",
    "    if relation_feat_hypo:\n",
    "        break\n",
    "\n",
    "if relation_feat_hype:\n",
    "    relation_feat_hypo = relation_feat_hype\n",
    "elif relation_feat_hypo:\n",
    "    relation_feat_hype = relation_feat_hypo\n",
    "else:\n",
    "    relation_feat_hype = 0\n",
    "    relation_feat_hypo = 0\n",
    "    \n",
    "## Same-Hypernym\n",
    "if relation_feat_syn == 0:\n",
    "    # to see if the two words have the same hypernym\n",
    "    for syn1_idx, syn1_path in enumerate(best_syn1_path):\n",
    "        for syn2_idx, syn2_path in enumerate(best_syn2_path):\n",
    "            for syn1_hyper in syn1_path:\n",
    "                for syn2_hyper in syn2_path:\n",
    "                    if syn1_hyper == syn2_hyper:\n",
    "#                         print(syn1_hyper)\n",
    "#                         print(syn2_hyper)\n",
    "                        relation_feat_same_hype = 1\n",
    "if not relation_feat_same_hype:\n",
    "    relation_feat_same_hype = 0\n",
    "# PrintRelationLst() "
   ]
  },
  {
   "cell_type": "code",
   "execution_count": 120,
   "metadata": {},
   "outputs": [
    {
     "name": "stdout",
     "output_type": "stream",
     "text": [
      "relation-syn: 0\n",
      "relation-ant: 1\n",
      "relation-hype: 0\n",
      "relation-hypo: 0\n",
      "relation-same_hype: 0\n"
     ]
    }
   ],
   "source": [
    "PrintRelationLst()"
   ]
  },
  {
   "cell_type": "code",
   "execution_count": null,
   "metadata": {},
   "outputs": [],
   "source": [
    "## External knowledge\n",
    "λ1(rij ), where λ\n",
    "is a hyper-parameter tuned on the development set and 1 is the indication function.\n",
    "1(rij ) = \u001a\n",
    "1 if rij is not zero vector ;\n",
    "0 if rij is zero vector ."
   ]
  },
  {
   "cell_type": "code",
   "execution_count": null,
   "metadata": {},
   "outputs": [],
   "source": []
  }
 ],
 "metadata": {
  "kernelspec": {
   "display_name": "Python 3",
   "language": "python",
   "name": "python3"
  },
  "language_info": {
   "codemirror_mode": {
    "name": "ipython",
    "version": 3
   },
   "file_extension": ".py",
   "mimetype": "text/x-python",
   "name": "python",
   "nbconvert_exporter": "python",
   "pygments_lexer": "ipython3",
   "version": "3.5.4"
  }
 },
 "nbformat": 4,
 "nbformat_minor": 2
}
